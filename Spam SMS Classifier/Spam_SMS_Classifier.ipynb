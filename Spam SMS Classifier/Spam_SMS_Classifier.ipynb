{
  "nbformat": 4,
  "nbformat_minor": 0,
  "metadata": {
    "colab": {
      "name": "Spam_SMS_Classifier.ipynb",
      "provenance": [],
      "collapsed_sections": []
    },
    "kernelspec": {
      "name": "python3",
      "display_name": "Python 3"
    },
    "accelerator": "GPU"
  },
  "cells": [
    {
      "cell_type": "markdown",
      "metadata": {
        "id": "RKmPu1O-g3jI",
        "colab_type": "text"
      },
      "source": [
        "##Import Packages"
      ]
    },
    {
      "cell_type": "code",
      "metadata": {
        "id": "31ayQrLEg4x5",
        "colab_type": "code",
        "colab": {}
      },
      "source": [
        "import pandas as pd\n",
        "import numpy as np\n",
        "import spacy\n",
        "from spacy.lang.en import English\n",
        "from spacy.lang.en.stop_words import STOP_WORDS"
      ],
      "execution_count": 51,
      "outputs": []
    },
    {
      "cell_type": "markdown",
      "metadata": {
        "id": "N3p9JRK1mpB2",
        "colab_type": "text"
      },
      "source": [
        "##Import Data"
      ]
    },
    {
      "cell_type": "code",
      "metadata": {
        "id": "jcNalZpmK973",
        "colab_type": "code",
        "colab": {}
      },
      "source": [
        "#Loading the dataset\n",
        "df = pd.read_csv('Spam SMS Collection', sep='\\t', names=['label', 'message'])"
      ],
      "execution_count": 52,
      "outputs": []
    },
    {
      "cell_type": "code",
      "metadata": {
        "id": "FhyQFFo5L-zL",
        "colab_type": "code",
        "colab": {
          "base_uri": "https://localhost:8080/",
          "height": 204
        },
        "outputId": "bc4ba64b-cd0d-4353-f026-091809e78520"
      },
      "source": [
        "#First five observations\n",
        "df.head()"
      ],
      "execution_count": 53,
      "outputs": [
        {
          "output_type": "execute_result",
          "data": {
            "text/html": [
              "<div>\n",
              "<style scoped>\n",
              "    .dataframe tbody tr th:only-of-type {\n",
              "        vertical-align: middle;\n",
              "    }\n",
              "\n",
              "    .dataframe tbody tr th {\n",
              "        vertical-align: top;\n",
              "    }\n",
              "\n",
              "    .dataframe thead th {\n",
              "        text-align: right;\n",
              "    }\n",
              "</style>\n",
              "<table border=\"1\" class=\"dataframe\">\n",
              "  <thead>\n",
              "    <tr style=\"text-align: right;\">\n",
              "      <th></th>\n",
              "      <th>label</th>\n",
              "      <th>message</th>\n",
              "    </tr>\n",
              "  </thead>\n",
              "  <tbody>\n",
              "    <tr>\n",
              "      <th>0</th>\n",
              "      <td>ham</td>\n",
              "      <td>Go until jurong point, crazy.. Available only ...</td>\n",
              "    </tr>\n",
              "    <tr>\n",
              "      <th>1</th>\n",
              "      <td>ham</td>\n",
              "      <td>Ok lar... Joking wif u oni...</td>\n",
              "    </tr>\n",
              "    <tr>\n",
              "      <th>2</th>\n",
              "      <td>spam</td>\n",
              "      <td>Free entry in 2 a wkly comp to win FA Cup fina...</td>\n",
              "    </tr>\n",
              "    <tr>\n",
              "      <th>3</th>\n",
              "      <td>ham</td>\n",
              "      <td>U dun say so early hor... U c already then say...</td>\n",
              "    </tr>\n",
              "    <tr>\n",
              "      <th>4</th>\n",
              "      <td>ham</td>\n",
              "      <td>Nah I don't think he goes to usf, he lives aro...</td>\n",
              "    </tr>\n",
              "  </tbody>\n",
              "</table>\n",
              "</div>"
            ],
            "text/plain": [
              "  label                                            message\n",
              "0   ham  Go until jurong point, crazy.. Available only ...\n",
              "1   ham                      Ok lar... Joking wif u oni...\n",
              "2  spam  Free entry in 2 a wkly comp to win FA Cup fina...\n",
              "3   ham  U dun say so early hor... U c already then say...\n",
              "4   ham  Nah I don't think he goes to usf, he lives aro..."
            ]
          },
          "metadata": {
            "tags": []
          },
          "execution_count": 53
        }
      ]
    },
    {
      "cell_type": "code",
      "metadata": {
        "id": "NcLo2OgWL-wH",
        "colab_type": "code",
        "colab": {
          "base_uri": "https://localhost:8080/",
          "height": 34
        },
        "outputId": "1454a9b2-80c5-49c6-c52f-5b2b5c6fa90b"
      },
      "source": [
        "#Shape of the dataset\n",
        "df.shape"
      ],
      "execution_count": 54,
      "outputs": [
        {
          "output_type": "execute_result",
          "data": {
            "text/plain": [
              "(5572, 2)"
            ]
          },
          "metadata": {
            "tags": []
          },
          "execution_count": 54
        }
      ]
    },
    {
      "cell_type": "code",
      "metadata": {
        "id": "QoEZTjDXL-pn",
        "colab_type": "code",
        "colab": {
          "base_uri": "https://localhost:8080/",
          "height": 68
        },
        "outputId": "5f7bd9b9-8728-4815-c489-f801d407837d"
      },
      "source": [
        "#Count of output feature\n",
        "df['label'].value_counts()"
      ],
      "execution_count": 55,
      "outputs": [
        {
          "output_type": "execute_result",
          "data": {
            "text/plain": [
              "ham     4825\n",
              "spam     747\n",
              "Name: label, dtype: int64"
            ]
          },
          "metadata": {
            "tags": []
          },
          "execution_count": 55
        }
      ]
    },
    {
      "cell_type": "code",
      "metadata": {
        "id": "NAJT-H04OHmZ",
        "colab_type": "code",
        "colab": {}
      },
      "source": [
        "#Create list of punctuation marks\n",
        "import string\n",
        "punctuations=string.punctuation\n",
        "\n",
        "#Create list of stopwords\n",
        "nlp=spacy.load('en')\n",
        "stop_words=spacy.lang.en.stop_words.STOP_WORDS\n",
        "\n",
        "#Load English tokenizer, tagger, parser, NER and word vectors\n",
        "parser=English()\n",
        "\n",
        "#Create tokenizer function\n",
        "def spacy_tokenizer(sentence):\n",
        "  #Creating our token object, which is used to create documents with linguistic annotations.\n",
        "  mytokens=parser(sentence)\n",
        "  #Lemmatizing each token and converting each token into lowercase\n",
        "  mytokens=[word.lemma_.lower().strip() if word.lemma_!='-PRON' else word.lower_ for word in mytokens]\n",
        "  #Removing stopwords\n",
        "  mytokens=[word for word in mytokens if word not in stop_words and word not in punctuations]\n",
        "  #Return preprocessed list of tokens\n",
        "  return mytokens"
      ],
      "execution_count": 56,
      "outputs": []
    },
    {
      "cell_type": "code",
      "metadata": {
        "id": "Qj9U5ZJmXTLF",
        "colab_type": "code",
        "colab": {}
      },
      "source": [
        "#To further clean our text data, we’ll also want to create a custom transformer for removing initial and end spaces and converting text into lower case.\n",
        "from sklearn.base import TransformerMixin\n",
        "class predictors(TransformerMixin):\n",
        "  def transform(self,X, **transform_params):\n",
        "    return[clean_text(text)for text in X]\n",
        "\n",
        "  def fit(self,X,y=None, **fir_params):\n",
        "    return self\n",
        "  \n",
        "  def get_params(self,deep=True):\n",
        "    return {}\n",
        "#Basic function to clean the text\n",
        "def clean_text(text):\n",
        "  #Removing spaces and converting text into lowercase\n",
        "  return text.strip().lower()"
      ],
      "execution_count": 57,
      "outputs": []
    },
    {
      "cell_type": "markdown",
      "metadata": {
        "id": "GKvf5MNip78B",
        "colab_type": "text"
      },
      "source": [
        "##Vectorization"
      ]
    },
    {
      "cell_type": "code",
      "metadata": {
        "id": "TGwZEnA6XTI_",
        "colab_type": "code",
        "colab": {}
      },
      "source": [
        "from sklearn.feature_extraction.text import CountVectorizer, TfidfVectorizer\n",
        "\n",
        "bow_vector=CountVectorizer(tokenizer=spacy_tokenizer, ngram_range=(1,3))\n",
        "tfidf_vector= TfidfVectorizer(tokenizer=spacy_tokenizer)"
      ],
      "execution_count": 58,
      "outputs": []
    },
    {
      "cell_type": "markdown",
      "metadata": {
        "id": "wFTKMo2FqCF4",
        "colab_type": "text"
      },
      "source": [
        "##Train Test Split"
      ]
    },
    {
      "cell_type": "code",
      "metadata": {
        "id": "jRmoYpb8XTFr",
        "colab_type": "code",
        "colab": {}
      },
      "source": [
        "from sklearn.model_selection import train_test_split\n",
        "X=df['message']\n",
        "y=pd.get_dummies(df['label'])\n",
        "y=y.drop(['spam'],1)\n",
        "X_train,X_test,y_train,y_test=train_test_split(X,y,test_size=0.25)"
      ],
      "execution_count": 59,
      "outputs": []
    },
    {
      "cell_type": "markdown",
      "metadata": {
        "id": "eJ4kygaNqG1I",
        "colab_type": "text"
      },
      "source": [
        "##Pipeline"
      ]
    },
    {
      "cell_type": "code",
      "metadata": {
        "id": "tAp3E5QLXTBD",
        "colab_type": "code",
        "colab": {}
      },
      "source": [
        "from sklearn.pipeline import Pipeline\n",
        "from sklearn.model_selection import GridSearchCV\n",
        "from sklearn.svm import SVC\n",
        "svc=SVC(class_weight='balanced')\n",
        "params={'kernel':['linear','rbf','poly','sigmoid'],'C':[0.01,0.1,1,10],'gamma':[0.01,0.1,1,10]}\n",
        "gs_svc=GridSearchCV(svc,params)"
      ],
      "execution_count": 60,
      "outputs": []
    },
    {
      "cell_type": "code",
      "metadata": {
        "id": "i4T5NrsKXS9O",
        "colab_type": "code",
        "colab": {
          "base_uri": "https://localhost:8080/",
          "height": 496
        },
        "outputId": "693f61f5-5889-4d98-d3a4-10bfffa9da75"
      },
      "source": [
        "pipe= Pipeline([('cleaner', predictors()),\n",
        "                 ('vectorizer',tfidf_vector),\n",
        "                 ('classifier', gs_svc)])\n",
        "pipe.fit(X_train,y_train)"
      ],
      "execution_count": 61,
      "outputs": [
        {
          "output_type": "stream",
          "text": [
            "/usr/local/lib/python3.6/dist-packages/sklearn/utils/validation.py:760: DataConversionWarning: A column-vector y was passed when a 1d array was expected. Please change the shape of y to (n_samples, ), for example using ravel().\n",
            "  y = column_or_1d(y, warn=True)\n"
          ],
          "name": "stderr"
        },
        {
          "output_type": "execute_result",
          "data": {
            "text/plain": [
              "Pipeline(memory=None,\n",
              "         steps=[('cleaner', <__main__.predictors object at 0x7fc6c299ce80>),\n",
              "                ('vectorizer',\n",
              "                 TfidfVectorizer(analyzer='word', binary=False,\n",
              "                                 decode_error='strict',\n",
              "                                 dtype=<class 'numpy.float64'>,\n",
              "                                 encoding='utf-8', input='content',\n",
              "                                 lowercase=True, max_df=1.0, max_features=None,\n",
              "                                 min_df=1, ngram_range=(1, 1), norm='l2',\n",
              "                                 preprocessor=None, smooth_idf=True,\n",
              "                                 stop_wor...\n",
              "                                            degree=3, gamma='scale',\n",
              "                                            kernel='rbf', max_iter=-1,\n",
              "                                            probability=False,\n",
              "                                            random_state=None, shrinking=True,\n",
              "                                            tol=0.001, verbose=False),\n",
              "                              iid='deprecated', n_jobs=None,\n",
              "                              param_grid={'C': [0.01, 0.1, 1, 10],\n",
              "                                          'gamma': [0.01, 0.1, 1, 10],\n",
              "                                          'kernel': ['linear', 'rbf', 'poly',\n",
              "                                                     'sigmoid']},\n",
              "                              pre_dispatch='2*n_jobs', refit=True,\n",
              "                              return_train_score=False, scoring=None,\n",
              "                              verbose=0))],\n",
              "         verbose=False)"
            ]
          },
          "metadata": {
            "tags": []
          },
          "execution_count": 61
        }
      ]
    },
    {
      "cell_type": "code",
      "metadata": {
        "id": "zgdvR2LAXS3G",
        "colab_type": "code",
        "colab": {
          "base_uri": "https://localhost:8080/",
          "height": 320
        },
        "outputId": "519c3e9e-c448-4ad8-f1d7-dbcd13117c0e"
      },
      "source": [
        "from sklearn import metrics\n",
        "import matplotlib.pyplot as plt\n",
        "import seaborn as sns\n",
        "predicted=pipe.predict(X_test)\n",
        "print('Accuracy:',metrics.accuracy_score(predicted,y_test))\n",
        "print('Precision:',metrics.precision_score(predicted,y_test))\n",
        "print('Recall:',metrics.recall_score(predicted,y_test))\n",
        "\n",
        "cfm=metrics.confusion_matrix(y_test,predicted)\n",
        "lbl1=['Predicted Negetive', 'Predicted Positive']\n",
        "lbl2=['Actual Negetive', 'Actual Positive']\n",
        "sns.heatmap(cfm, annot=True, cmap='Blues',fmt='d',xticklabels=lbl1,yticklabels=lbl2)\n",
        "plt.show()"
      ],
      "execution_count": 62,
      "outputs": [
        {
          "output_type": "stream",
          "text": [
            "Accuracy: 0.9849246231155779\n",
            "Precision: 0.9933938893476466\n",
            "Recall: 0.9893092105263158\n"
          ],
          "name": "stdout"
        },
        {
          "output_type": "display_data",
          "data": {
            "image/png": "[encoded data removed]",
            "text/plain": [
              "<Figure size 432x288 with 2 Axes>"
            ]
          },
          "metadata": {
            "tags": [],
            "needs_background": "light"
          }
        }
      ]
    },
    {
      "cell_type": "code",
      "metadata": {
        "id": "A7EJ_LrEVmul",
        "colab_type": "code",
        "colab": {}
      },
      "source": [
        ""
      ],
      "execution_count": 62,
      "outputs": []
    }
  ]
}