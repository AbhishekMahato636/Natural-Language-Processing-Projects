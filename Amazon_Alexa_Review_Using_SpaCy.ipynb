{
  "nbformat": 4,
  "nbformat_minor": 0,
  "metadata": {
    "colab": {
      "name": "Amazon_Alexa_Review_Using_SpaCy.ipynb",
      "provenance": [],
      "collapsed_sections": []
    },
    "kernelspec": {
      "name": "python3",
      "display_name": "Python 3"
    },
    "accelerator": "GPU"
  },
  "cells": [
    {
      "cell_type": "markdown",
      "metadata": {
        "id": "y-QD_Cy637yV",
        "colab_type": "text"
      },
      "source": [
        "Problem:\n",
        "The data set consists of records of customers review regarding Amazon's Alexa. Each customer's review has been categorized into Postive and Negatve based on the reviews given.\n",
        "\n",
        "Objective:\n",
        "The objective of this analysis is to build a predictive classification model on text data highly processed by scpCy and predict future instances."
      ]
    },
    {
      "cell_type": "markdown",
      "metadata": {
        "id": "BcSz_vFG4mAn",
        "colab_type": "text"
      },
      "source": [
        "##Import Packages"
      ]
    },
    {
      "cell_type": "code",
      "metadata": {
        "id": "7xawjTbT38dZ",
        "colab_type": "code",
        "colab": {}
      },
      "source": [
        "import pandas as pd\n",
        "import spacy\n",
        "from spacy.lang.en import English\n",
        "from spacy.lang.en.stop_words import STOP_WORDS"
      ],
      "execution_count": 3,
      "outputs": []
    },
    {
      "cell_type": "markdown",
      "metadata": {
        "id": "ZzFwr1uO4342",
        "colab_type": "text"
      },
      "source": [
        "##Import Data"
      ]
    },
    {
      "cell_type": "code",
      "metadata": {
        "id": "br4pEdde7kqt",
        "colab_type": "code",
        "colab": {}
      },
      "source": [
        "#Read the data set\n",
        "df= pd.read_csv('amazon_alexa.tsv', sep='\\t')"
      ],
      "execution_count": 4,
      "outputs": []
    },
    {
      "cell_type": "code",
      "metadata": {
        "id": "zYuLuo9z7knb",
        "colab_type": "code",
        "colab": {
          "base_uri": "https://localhost:8080/",
          "height": 204
        },
        "outputId": "d210067f-ffd7-45fe-fa1a-5576dc105dcb"
      },
      "source": [
        "#First five observations\n",
        "df.head()"
      ],
      "execution_count": 5,
      "outputs": [
        {
          "output_type": "execute_result",
          "data": {
            "text/html": [
              "<div>\n",
              "<style scoped>\n",
              "    .dataframe tbody tr th:only-of-type {\n",
              "        vertical-align: middle;\n",
              "    }\n",
              "\n",
              "    .dataframe tbody tr th {\n",
              "        vertical-align: top;\n",
              "    }\n",
              "\n",
              "    .dataframe thead th {\n",
              "        text-align: right;\n",
              "    }\n",
              "</style>\n",
              "<table border=\"1\" class=\"dataframe\">\n",
              "  <thead>\n",
              "    <tr style=\"text-align: right;\">\n",
              "      <th></th>\n",
              "      <th>rating</th>\n",
              "      <th>date</th>\n",
              "      <th>variation</th>\n",
              "      <th>verified_reviews</th>\n",
              "      <th>feedback</th>\n",
              "    </tr>\n",
              "  </thead>\n",
              "  <tbody>\n",
              "    <tr>\n",
              "      <th>0</th>\n",
              "      <td>5</td>\n",
              "      <td>31-Jul-18</td>\n",
              "      <td>Charcoal Fabric</td>\n",
              "      <td>Love my Echo!</td>\n",
              "      <td>1</td>\n",
              "    </tr>\n",
              "    <tr>\n",
              "      <th>1</th>\n",
              "      <td>5</td>\n",
              "      <td>31-Jul-18</td>\n",
              "      <td>Charcoal Fabric</td>\n",
              "      <td>Loved it!</td>\n",
              "      <td>1</td>\n",
              "    </tr>\n",
              "    <tr>\n",
              "      <th>2</th>\n",
              "      <td>4</td>\n",
              "      <td>31-Jul-18</td>\n",
              "      <td>Walnut Finish</td>\n",
              "      <td>Sometimes while playing a game, you can answer...</td>\n",
              "      <td>1</td>\n",
              "    </tr>\n",
              "    <tr>\n",
              "      <th>3</th>\n",
              "      <td>5</td>\n",
              "      <td>31-Jul-18</td>\n",
              "      <td>Charcoal Fabric</td>\n",
              "      <td>I have had a lot of fun with this thing. My 4 ...</td>\n",
              "      <td>1</td>\n",
              "    </tr>\n",
              "    <tr>\n",
              "      <th>4</th>\n",
              "      <td>5</td>\n",
              "      <td>31-Jul-18</td>\n",
              "      <td>Charcoal Fabric</td>\n",
              "      <td>Music</td>\n",
              "      <td>1</td>\n",
              "    </tr>\n",
              "  </tbody>\n",
              "</table>\n",
              "</div>"
            ],
            "text/plain": [
              "   rating  ... feedback\n",
              "0       5  ...        1\n",
              "1       5  ...        1\n",
              "2       4  ...        1\n",
              "3       5  ...        1\n",
              "4       5  ...        1\n",
              "\n",
              "[5 rows x 5 columns]"
            ]
          },
          "metadata": {
            "tags": []
          },
          "execution_count": 5
        }
      ]
    },
    {
      "cell_type": "code",
      "metadata": {
        "id": "eKiBgr_I7klB",
        "colab_type": "code",
        "colab": {
          "base_uri": "https://localhost:8080/",
          "height": 34
        },
        "outputId": "5e5df8b0-ff9a-484b-a1f2-cfe292ffd452"
      },
      "source": [
        "#Shape of the dataset\n",
        "df.shape"
      ],
      "execution_count": 6,
      "outputs": [
        {
          "output_type": "execute_result",
          "data": {
            "text/plain": [
              "(3150, 5)"
            ]
          },
          "metadata": {
            "tags": []
          },
          "execution_count": 6
        }
      ]
    },
    {
      "cell_type": "code",
      "metadata": {
        "id": "sXEGKjwX78rG",
        "colab_type": "code",
        "colab": {
          "base_uri": "https://localhost:8080/",
          "height": 68
        },
        "outputId": "6854e5e5-be3a-471b-dfdb-3f12f326052a"
      },
      "source": [
        "#Count of output feature\n",
        "df['feedback'].value_counts()"
      ],
      "execution_count": 7,
      "outputs": [
        {
          "output_type": "execute_result",
          "data": {
            "text/plain": [
              "1    2893\n",
              "0     257\n",
              "Name: feedback, dtype: int64"
            ]
          },
          "metadata": {
            "tags": []
          },
          "execution_count": 7
        }
      ]
    },
    {
      "cell_type": "markdown",
      "metadata": {
        "id": "QQJTRGad5Whs",
        "colab_type": "text"
      },
      "source": [
        "##Tokenization"
      ]
    },
    {
      "cell_type": "code",
      "metadata": {
        "id": "SGvi5_Rr79Bn",
        "colab_type": "code",
        "colab": {}
      },
      "source": [
        "#Create list of punctuation marks\n",
        "import string\n",
        "punctuations=string.punctuation\n",
        "\n",
        "#Create list of stopwords\n",
        "nlp=spacy.load('en')\n",
        "stop_words= spacy.lang.en.stop_words.STOP_WORDS\n",
        "\n",
        "#Load English tokenizer, tagger, parser, NER and word vectors\n",
        "parser=English()\n",
        "\n",
        "#Create tokenizer function\n",
        "def spacy_tokenizer(sentence):\n",
        "  #Creating our token object, which is used to create documents with linguistic annotations.\n",
        "  mytokens=parser(sentence)\n",
        "  #Lemmatizing each token and converting each token into lowercase\n",
        "  mytokens=[word.lemma_.lower().strip() if word.lemma_!='-PRON-' else word.lower_ for word in mytokens]\n",
        "  #Removing stopwords\n",
        "  mytokens= [word for word in mytokens if word not in stop_words and word not in punctuations]\n",
        "  #Return preprocessed list of tokens\n",
        "  return mytokens"
      ],
      "execution_count": 8,
      "outputs": []
    },
    {
      "cell_type": "markdown",
      "metadata": {
        "id": "ZiOpP9BG6a_a",
        "colab_type": "text"
      },
      "source": [
        "##Custom Transformer using spaCy"
      ]
    },
    {
      "cell_type": "code",
      "metadata": {
        "id": "CmZPBrI079Od",
        "colab_type": "code",
        "colab": {}
      },
      "source": [
        "#To further clean our text data, we’ll also want to create a custom transformer for removing initial and end spaces and converting text into lower case.\n",
        "from sklearn.base import TransformerMixin\n",
        "class predictors(TransformerMixin):\n",
        "  def transform(self,X, **transform_params):\n",
        "    return [clean_text(text) for text in X]\n",
        "  \n",
        "  def fit(self,X,y=None, **fit_params):\n",
        "    return self\n",
        "  \n",
        "  def get_params(self, deep=True):\n",
        "    return {}\n",
        "#Basic function to clean the text\n",
        "def clean_text(text):\n",
        "  #Removing spaces and converting text into lowercase\n",
        "  return text.strip().lower()"
      ],
      "execution_count": 9,
      "outputs": []
    },
    {
      "cell_type": "markdown",
      "metadata": {
        "id": "AWFPs-Av64KK",
        "colab_type": "text"
      },
      "source": [
        "##Vectorization"
      ]
    },
    {
      "cell_type": "code",
      "metadata": {
        "id": "MDe7B7DB79Lx",
        "colab_type": "code",
        "colab": {}
      },
      "source": [
        "#We need to perform feature vectorization in order to transform word tokens into numbers. We can do it using tf-idf ,Bag of Words.\n",
        "from sklearn.feature_extraction.text import CountVectorizer, TfidfVectorizer\n",
        "\n",
        "bow_vector= CountVectorizer(tokenizer=spacy_tokenizer, ngram_range=(1,3))\n",
        "tfidf_vector= TfidfVectorizer(tokenizer=spacy_tokenizer)"
      ],
      "execution_count": 10,
      "outputs": []
    },
    {
      "cell_type": "markdown",
      "metadata": {
        "id": "37ERSTkS7MCr",
        "colab_type": "text"
      },
      "source": [
        "##Train Test Split"
      ]
    },
    {
      "cell_type": "code",
      "metadata": {
        "id": "wA6yT3NZ78-4",
        "colab_type": "code",
        "colab": {}
      },
      "source": [
        "#Spliting data into train and test\n",
        "from sklearn.model_selection import train_test_split\n",
        "X= df['verified_reviews']\n",
        "y=df['feedback']\n",
        "X_train, X_test,y_train,y_test= train_test_split(X,y,test_size=0.25)"
      ],
      "execution_count": 11,
      "outputs": []
    },
    {
      "cell_type": "markdown",
      "metadata": {
        "id": "1KMrY_lf7jxq",
        "colab_type": "text"
      },
      "source": [
        "##Pipeline"
      ]
    },
    {
      "cell_type": "code",
      "metadata": {
        "id": "YVJC4cCJ788B",
        "colab_type": "code",
        "colab": {}
      },
      "source": [
        "#We will use pipeline to integrate the entire modeling technique.\n",
        "#Pipeline 1\n",
        "#Decision Tree with GridSearchCV\n",
        "from sklearn.pipeline import Pipeline\n",
        "from sklearn.tree import DecisionTreeClassifier\n",
        "from sklearn.model_selection import GridSearchCV\n",
        "classifier= DecisionTreeClassifier(class_weight='balanced')\n",
        "parameters={'min_samples_split': range(10,500,20),'max_depth': range(1,20,2)}\n",
        "clf=GridSearchCV(classifier,parameters)"
      ],
      "execution_count": 12,
      "outputs": []
    },
    {
      "cell_type": "code",
      "metadata": {
        "id": "M_88b1oO782Y",
        "colab_type": "code",
        "colab": {
          "base_uri": "https://localhost:8080/",
          "height": 408
        },
        "outputId": "f9381d19-27fe-4247-c1e2-55618a59a1c8"
      },
      "source": [
        "#Pipeline using tfidf\n",
        "pipe1= Pipeline([('cleaner', predictors()),\n",
        "                 ('vectorizer',tfidf_vector),\n",
        "                 ('classifier', classifier)])\n",
        "pipe1.fit(X_train,y_train)"
      ],
      "execution_count": 13,
      "outputs": [
        {
          "output_type": "execute_result",
          "data": {
            "text/plain": [
              "Pipeline(memory=None,\n",
              "         steps=[('cleaner', <__main__.predictors object at 0x7f6bb1c906a0>),\n",
              "                ('vectorizer',\n",
              "                 TfidfVectorizer(analyzer='word', binary=False,\n",
              "                                 decode_error='strict',\n",
              "                                 dtype=<class 'numpy.float64'>,\n",
              "                                 encoding='utf-8', input='content',\n",
              "                                 lowercase=True, max_df=1.0, max_features=None,\n",
              "                                 min_df=1, ngram_range=(1, 1), norm='l2',\n",
              "                                 preprocessor=None, smooth_idf=True,\n",
              "                                 stop_wor...\n",
              "                                 use_idf=True, vocabulary=None)),\n",
              "                ('classifier',\n",
              "                 DecisionTreeClassifier(ccp_alpha=0.0, class_weight='balanced',\n",
              "                                        criterion='gini', max_depth=None,\n",
              "                                        max_features=None, max_leaf_nodes=None,\n",
              "                                        min_impurity_decrease=0.0,\n",
              "                                        min_impurity_split=None,\n",
              "                                        min_samples_leaf=1, min_samples_split=2,\n",
              "                                        min_weight_fraction_leaf=0.0,\n",
              "                                        presort='deprecated', random_state=None,\n",
              "                                        splitter='best'))],\n",
              "         verbose=False)"
            ]
          },
          "metadata": {
            "tags": []
          },
          "execution_count": 13
        }
      ]
    },
    {
      "cell_type": "code",
      "metadata": {
        "id": "JlutA0Lu-MH9",
        "colab_type": "code",
        "colab": {
          "base_uri": "https://localhost:8080/",
          "height": 370
        },
        "outputId": "48d23019-7821-47e9-a093-97ffed69a4e8"
      },
      "source": [
        "#Evaluation of GridSearchCV Decision Tree model\n",
        "from sklearn import metrics\n",
        "predicted= pipe1.predict(X_test)\n",
        "print('Accuracy:',metrics.accuracy_score(predicted,y_test))\n",
        "print('Precision:',metrics.precision_score(predicted,y_test))\n",
        "print('Recall:',metrics.recall_score(predicted,y_test))\n",
        "\n",
        "import seaborn as sns\n",
        "import matplotlib.pyplot as plt\n",
        "cfm=metrics.confusion_matrix(y_test,predicted)\n",
        "lbl1=['Predicted Negetive', 'Predicted Positive']\n",
        "lbl2=['Actual Negetive', 'Actual Positive']\n",
        "sns.heatmap(cfm, annot=True, cmap='Blues',fmt='d',xticklabels=lbl1,yticklabels=lbl2)\n",
        "plt.show()"
      ],
      "execution_count": 14,
      "outputs": [
        {
          "output_type": "stream",
          "text": [
            "Accuracy: 0.8705583756345178\n",
            "Precision: 0.8908839779005525\n",
            "Recall: 0.9655688622754491\n"
          ],
          "name": "stdout"
        },
        {
          "output_type": "stream",
          "text": [
            "/usr/local/lib/python3.6/dist-packages/statsmodels/tools/_testing.py:19: FutureWarning: pandas.util.testing is deprecated. Use the functions in the public API at pandas.testing instead.\n",
            "  import pandas.util.testing as tm\n"
          ],
          "name": "stderr"
        },
        {
          "output_type": "display_data",
          "data": {
            "image/png": "[encoded data removed]",
            "text/plain": [
              "<Figure size 432x288 with 2 Axes>"
            ]
          },
          "metadata": {
            "tags": [],
            "needs_background": "light"
          }
        }
      ]
    },
    {
      "cell_type": "code",
      "metadata": {
        "id": "8jffJE0c780e",
        "colab_type": "code",
        "colab": {
          "base_uri": "https://localhost:8080/",
          "height": 442
        },
        "outputId": "0f3f0bec-afbb-41c9-9d11-f22449dfd610"
      },
      "source": [
        "#Pipeline 2\n",
        "#Decision Tree without GridSearchCV\n",
        "pipe2= Pipeline([('cleaner',predictors()),\n",
        "                 ('vectorizer',bow_vector),\n",
        "                 ('classifier',clf)])\n",
        "pipe2.fit(X_train,y_train)"
      ],
      "execution_count": 15,
      "outputs": [
        {
          "output_type": "execute_result",
          "data": {
            "text/plain": [
              "Pipeline(memory=None,\n",
              "         steps=[('cleaner', <__main__.predictors object at 0x7f6bbbef1fd0>),\n",
              "                ('vectorizer',\n",
              "                 CountVectorizer(analyzer='word', binary=False,\n",
              "                                 decode_error='strict',\n",
              "                                 dtype=<class 'numpy.int64'>, encoding='utf-8',\n",
              "                                 input='content', lowercase=True, max_df=1.0,\n",
              "                                 max_features=None, min_df=1,\n",
              "                                 ngram_range=(1, 3), preprocessor=None,\n",
              "                                 stop_words=None, strip_accents=None,\n",
              "                                 t...\n",
              "                                                               min_impurity_split=None,\n",
              "                                                               min_samples_leaf=1,\n",
              "                                                               min_samples_split=2,\n",
              "                                                               min_weight_fraction_leaf=0.0,\n",
              "                                                               presort='deprecated',\n",
              "                                                               random_state=None,\n",
              "                                                               splitter='best'),\n",
              "                              iid='deprecated', n_jobs=None,\n",
              "                              param_grid={'max_depth': range(1, 20, 2),\n",
              "                                          'min_samples_split': range(10, 500, 20)},\n",
              "                              pre_dispatch='2*n_jobs', refit=True,\n",
              "                              return_train_score=False, scoring=None,\n",
              "                              verbose=0))],\n",
              "         verbose=False)"
            ]
          },
          "metadata": {
            "tags": []
          },
          "execution_count": 15
        }
      ]
    },
    {
      "cell_type": "markdown",
      "metadata": {
        "id": "H_xJnp6_8U1w",
        "colab_type": "text"
      },
      "source": [
        "##Evaluation"
      ]
    },
    {
      "cell_type": "code",
      "metadata": {
        "id": "hNnnWnp27khx",
        "colab_type": "code",
        "colab": {
          "base_uri": "https://localhost:8080/",
          "height": 316
        },
        "outputId": "bac0a8ef-cfa3-48f9-cb65-db49a990a130"
      },
      "source": [
        "##Evaluation of simple Decision Tree model\n",
        "predicted2= pipe2.predict(X_test)\n",
        "print('Accuracy:',metrics.accuracy_score(predicted2,y_test))\n",
        "print('Precision:',metrics.precision_score(predicted2,y_test))\n",
        "print('Recall:',metrics.recall_score(predicted2,y_test))\n",
        "\n",
        "cfm=metrics.confusion_matrix(y_test,predicted2)\n",
        "lbl1=['Predicted Negetive', 'Predicted Positive']\n",
        "lbl2=['Actual Negetive', 'Actual Positive']\n",
        "sns.heatmap(cfm, annot=True, cmap='Blues',fmt='d',xticklabels=lbl1,yticklabels=lbl2)\n",
        "plt.show()"
      ],
      "execution_count": 16,
      "outputs": [
        {
          "output_type": "stream",
          "text": [
            "Accuracy: 0.6802030456852792\n",
            "Precision: 0.6712707182320442\n",
            "Recall: 0.972\n"
          ],
          "name": "stdout"
        },
        {
          "output_type": "display_data",
          "data": {
            "image/png": "[encoded data removed]",
            "text/plain": [
              "<Figure size 432x288 with 2 Axes>"
            ]
          },
          "metadata": {
            "tags": [],
            "needs_background": "light"
          }
        }
      ]
    },
    {
      "cell_type": "code",
      "metadata": {
        "id": "Tk_lupKReceZ",
        "colab_type": "code",
        "colab": {}
      },
      "source": [
        "#Pipeline 3\n",
        "#SVM with GridSearchCV\n",
        "from sklearn.svm import SVC\n",
        "svc=SVC(class_weight='balanced')\n",
        "params1={'kernel':['linear','rbf','poly','sigmoid'],'C':[0.01,0.1,1,10],'gamma':[0.01,0.1,1,10]}\n",
        "gs_svc=GridSearchCV(svc,params1)"
      ],
      "execution_count": 17,
      "outputs": []
    },
    {
      "cell_type": "code",
      "metadata": {
        "id": "veuHa0y8ecbM",
        "colab_type": "code",
        "colab": {
          "base_uri": "https://localhost:8080/",
          "height": 442
        },
        "outputId": "4b5c3e79-71a6-437b-db20-13c78890d72c"
      },
      "source": [
        "#Pipeline using tfidf\n",
        "pipe3= Pipeline([('cleaner', predictors()),\n",
        "                 ('vectorizer',tfidf_vector),\n",
        "                 ('classifier', gs_svc)])\n",
        "pipe3.fit(X_train,y_train)"
      ],
      "execution_count": 18,
      "outputs": [
        {
          "output_type": "execute_result",
          "data": {
            "text/plain": [
              "Pipeline(memory=None,\n",
              "         steps=[('cleaner', <__main__.predictors object at 0x7f6babebd240>),\n",
              "                ('vectorizer',\n",
              "                 TfidfVectorizer(analyzer='word', binary=False,\n",
              "                                 decode_error='strict',\n",
              "                                 dtype=<class 'numpy.float64'>,\n",
              "                                 encoding='utf-8', input='content',\n",
              "                                 lowercase=True, max_df=1.0, max_features=None,\n",
              "                                 min_df=1, ngram_range=(1, 1), norm='l2',\n",
              "                                 preprocessor=None, smooth_idf=True,\n",
              "                                 stop_wor...\n",
              "                                            degree=3, gamma='scale',\n",
              "                                            kernel='rbf', max_iter=-1,\n",
              "                                            probability=False,\n",
              "                                            random_state=None, shrinking=True,\n",
              "                                            tol=0.001, verbose=False),\n",
              "                              iid='deprecated', n_jobs=None,\n",
              "                              param_grid={'C': [0.01, 0.1, 1, 10],\n",
              "                                          'gamma': [0.01, 0.1, 1, 10],\n",
              "                                          'kernel': ['linear', 'rbf', 'poly',\n",
              "                                                     'sigmoid']},\n",
              "                              pre_dispatch='2*n_jobs', refit=True,\n",
              "                              return_train_score=False, scoring=None,\n",
              "                              verbose=0))],\n",
              "         verbose=False)"
            ]
          },
          "metadata": {
            "tags": []
          },
          "execution_count": 18
        }
      ]
    },
    {
      "cell_type": "code",
      "metadata": {
        "id": "1MMVIu3pecQa",
        "colab_type": "code",
        "colab": {
          "base_uri": "https://localhost:8080/",
          "height": 319
        },
        "outputId": "303c1822-f817-4323-f736-6da34c11a29c"
      },
      "source": [
        "#Evaluation of GridSearchCV SVM\n",
        "predicted3= pipe3.predict(X_test)\n",
        "print('Accuracy:',metrics.accuracy_score(predicted3,y_test))\n",
        "print('Precision:',metrics.precision_score(predicted3,y_test))\n",
        "print('Recall:',metrics.recall_score(predicted3,y_test))\n",
        "\n",
        "cfm=metrics.confusion_matrix(y_test,predicted3)\n",
        "lbl1=['Predicted Negetive', 'Predicted Positive']\n",
        "lbl2=['Actual Negetive', 'Actual Positive']\n",
        "sns.heatmap(cfm, annot=True, cmap='Blues',fmt='d',xticklabels=lbl1,yticklabels=lbl2)\n",
        "plt.show()"
      ],
      "execution_count": 19,
      "outputs": [
        {
          "output_type": "stream",
          "text": [
            "Accuracy: 0.934010152284264\n",
            "Precision: 0.9709944751381215\n",
            "Recall: 0.9577656675749319\n"
          ],
          "name": "stdout"
        },
        {
          "output_type": "display_data",
          "data": {
            "image/png": "[encoded data removed]",
            "text/plain": [
              "<Figure size 432x288 with 2 Axes>"
            ]
          },
          "metadata": {
            "tags": [],
            "needs_background": "light"
          }
        }
      ]
    }
  ]
}